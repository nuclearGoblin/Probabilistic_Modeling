{
 "cells": [
  {
   "cell_type": "code",
   "execution_count": 1,
   "id": "21e190c6-64e1-4de2-bc27-f7f6ea1c2688",
   "metadata": {},
   "outputs": [],
   "source": [
    "import numpy as np\n",
    "from numpy.random import default_rng as rng\n",
    "uni = rng().uniform\n",
    "from tabulate import tabulate"
   ]
  },
  {
   "cell_type": "markdown",
   "id": "7f439cb1-e09e-45d6-8b5a-20fb50d8be89",
   "metadata": {},
   "source": [
    "# Q1b"
   ]
  },
  {
   "cell_type": "code",
   "execution_count": 2,
   "id": "2babf8b3-8ad9-4afe-9a4f-5847d28d20a0",
   "metadata": {},
   "outputs": [
    {
     "name": "stdout",
     "output_type": "stream",
     "text": [
      "Total vehicles: 1000000\n",
      "Cars:  750436 ( 75.0436 %)\n",
      "Trucks:  249564 ( 24.956400000000002 %)\n"
     ]
    }
   ],
   "source": [
    "# 0 for cars, 1 for trucks\n",
    "cartype = 0\n",
    "num = int(1e+06)\n",
    "numtype = [0,0]\n",
    "for i in range(num):\n",
    "    if cartype == 0:\n",
    "        if uni(0,1,1) < 1/3:\n",
    "            cartype = 1\n",
    "    if cartype == 1:\n",
    "        if uni(0,1,1) < 1/2:\n",
    "            cartype = 0\n",
    "    numtype[cartype] += 1\n",
    "print(\"Total vehicles:\",num)\n",
    "print(\"Cars: \",numtype[0],\"(\",numtype[0]/sum(numtype)*100,\"%)\")\n",
    "print(\"Trucks: \",numtype[1],\"(\",numtype[1]/sum(numtype)*100,\"%)\")"
   ]
  },
  {
   "cell_type": "markdown",
   "id": "6ddaad4c-064a-4ea2-896f-001fc9ad15b3",
   "metadata": {},
   "source": [
    "# Q2a"
   ]
  },
  {
   "cell_type": "code",
   "execution_count": 3,
   "id": "f01dabfb-d3dc-4de1-a3a3-bdc1e403f8c8",
   "metadata": {},
   "outputs": [
    {
     "name": "stdout",
     "output_type": "stream",
     "text": [
      "                 25%       50%       75%\n",
      "---------  ---------  --------  --------\n",
      "Mean:        84.2164   13.9939   5.47798\n",
      "Variance:  6715.39    141.627   11.4839\n"
     ]
    }
   ],
   "source": [
    "def findstreak(p):\n",
    "    streak = 0; flips = 0\n",
    "    while streak < 3:\n",
    "        if uni(0,1,1) < p:\n",
    "            streak += 1\n",
    "        else:\n",
    "            streak = 0\n",
    "        flips += 1\n",
    "    return flips\n",
    "\n",
    "num = int(1e+06)\n",
    "p25 = []; p50 = []; p75 = [];\n",
    "for i in range(num):\n",
    "    p25.append(findstreak(0.25))\n",
    "    p50.append(findstreak(0.50))\n",
    "    p75.append(findstreak(0.75))\n",
    "collabels = [\"\", \"25%\", \"50%\", \"75%\"]\n",
    "means = [\"Mean:\",np.mean(p25),np.mean(p50),np.mean(p75)]\n",
    "varis = [\"Variance:\",np.var(p25),np.var(p50),np.var(p75)]\n",
    "print(tabulate([collabels,means,varis],headers=\"firstrow\",tablefmt=\"fancygrid\"))"
   ]
  },
  {
   "cell_type": "markdown",
   "id": "af3da0c4-46c5-4998-9f2b-5dabe6e6ae88",
   "metadata": {},
   "source": [
    "# Q5"
   ]
  },
  {
   "cell_type": "code",
   "execution_count": 16,
   "id": "2ec5edb8-bceb-498f-a64d-924d25689886",
   "metadata": {},
   "outputs": [
    {
     "name": "stdout",
     "output_type": "stream",
     "text": [
      "                     HTH          THT\n",
      "-----------  -----------  -----------\n",
      "Total:       337801       662199\n",
      "Percentage:      33.7801      66.2199\n",
      "\n",
      "Average time to absorbing state: 7.114673\n"
     ]
    }
   ],
   "source": [
    "num = int(1e+06)\n",
    "hth = 0; tht = 0; steps_hth = [];\n",
    "def seekpattern():\n",
    "    iterations = 0; string = \"\"\n",
    "    while string not in [\"HTH\",\"THT\"]: #until we get this pattern,\n",
    "        if uni() <= 0.4:                #add the coin flip value to the end of the pattern.\n",
    "            string += \"H\"\n",
    "        else:\n",
    "            string += \"T\"\n",
    "        if len(string) > 1:\n",
    "            if string[-1] == string[-2]: #if there are two of the same value in a row,\n",
    "                string = string[-1]      #reset to only use the most recent flip result.\n",
    "        iterations += 1\n",
    "    return string,iterations\n",
    "for i in range(num):\n",
    "    tempstr,tempnum = seekpattern()\n",
    "    steps.append(tempnum)\n",
    "    if tempstr == \"HTH\":\n",
    "        hth += 1\n",
    "    elif tempstr == \"THT\":\n",
    "        tht += 1\n",
    "    else:\n",
    "        raise ValueError(\"tempstr is invalid; expected 'HTH' or 'THT' (received \"+tempstr+\").\")\n",
    "collabels = [\"\", \"HTH\", \"THT\"]\n",
    "totals = [\"Total:\",hth,tht]\n",
    "percent = [\"Percentage:\",hth/num*100,tht/num*100]\n",
    "\n",
    "print(tabulate([collabels,totals,percent],headers=\"firstrow\",tablefmt=\"fancygrid\"))\n",
    "print(\"\\nAverage time to absorbing state:\",np.mean(steps))"
   ]
  },
  {
   "cell_type": "code",
   "execution_count": null,
   "id": "948e32bf-3d32-4611-86bd-27e14a68f032",
   "metadata": {},
   "outputs": [],
   "source": []
  }
 ],
 "metadata": {
  "kernelspec": {
   "display_name": "base",
   "language": "python",
   "name": "base"
  },
  "language_info": {
   "codemirror_mode": {
    "name": "ipython",
    "version": 3
   },
   "file_extension": ".py",
   "mimetype": "text/x-python",
   "name": "python",
   "nbconvert_exporter": "python",
   "pygments_lexer": "ipython3",
   "version": "3.9.12"
  }
 },
 "nbformat": 4,
 "nbformat_minor": 5
}
