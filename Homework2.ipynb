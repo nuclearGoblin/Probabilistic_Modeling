{
 "cells": [
  {
   "cell_type": "code",
   "execution_count": 1,
   "id": "21e190c6-64e1-4de2-bc27-f7f6ea1c2688",
   "metadata": {},
   "outputs": [],
   "source": [
    "import numpy as np\n",
    "from numpy.random import default_rng as rng\n",
    "uni = rng().uniform\n",
    "from tabulate import tabulate"
   ]
  },
  {
   "cell_type": "markdown",
   "id": "7f439cb1-e09e-45d6-8b5a-20fb50d8be89",
   "metadata": {},
   "source": [
    "# Q1b"
   ]
  },
  {
   "cell_type": "code",
   "execution_count": 2,
   "id": "2babf8b3-8ad9-4afe-9a4f-5847d28d20a0",
   "metadata": {},
   "outputs": [
    {
     "name": "stdout",
     "output_type": "stream",
     "text": [
      "Total vehicles: 1000000\n",
      "Cars:  749730 ( 74.973 %)\n",
      "Trucks:  250270 ( 25.027 %)\n"
     ]
    }
   ],
   "source": [
    "# 0 for cars, 1 for trucks\n",
    "cartype = 0\n",
    "num = int(1e+06)\n",
    "numtype = [0,0]\n",
    "for i in range(num):\n",
    "    if cartype == 0:\n",
    "        if uni(0,1,1) < 1/3:\n",
    "            cartype = 1\n",
    "    if cartype == 1:\n",
    "        if uni(0,1,1) < 1/2:\n",
    "            cartype = 0\n",
    "    numtype[cartype] += 1\n",
    "print(\"Total vehicles:\",num)\n",
    "print(\"Cars: \",numtype[0],\"(\",numtype[0]/sum(numtype)*100,\"%)\")\n",
    "print(\"Trucks: \",numtype[1],\"(\",numtype[1]/sum(numtype)*100,\"%)\")"
   ]
  },
  {
   "cell_type": "markdown",
   "id": "6ddaad4c-064a-4ea2-896f-001fc9ad15b3",
   "metadata": {},
   "source": [
    "# Q2a"
   ]
  },
  {
   "cell_type": "code",
   "execution_count": 8,
   "id": "f01dabfb-d3dc-4de1-a3a3-bdc1e403f8c8",
   "metadata": {},
   "outputs": [
    {
     "name": "stdout",
     "output_type": "stream",
     "text": [
      "                 25%       50%       75%\n",
      "---------  ---------  --------  --------\n",
      "Mean:        84.0353   13.9983   5.47968\n",
      "Variance:  6686.47    142.114   11.5235\n"
     ]
    }
   ],
   "source": [
    "def findstreak(p):\n",
    "    streak = 0; flips = 0\n",
    "    while streak < 3:\n",
    "        if uni(0,1,1) < p:\n",
    "            streak += 1\n",
    "        else:\n",
    "            streak = 0\n",
    "        flips += 1\n",
    "    return flips\n",
    "\n",
    "num = int(1e+06)\n",
    "p25 = []; p50 = []; p75 = [];\n",
    "for i in range(num):\n",
    "    p25.append(findstreak(0.25))\n",
    "    p50.append(findstreak(0.50))\n",
    "    p75.append(findstreak(0.75))\n",
    "collabels = [\"\", \"25%\", \"50%\", \"75%\"]\n",
    "means = [\"Mean:\",np.mean(p25),np.mean(p50),np.mean(p75)]\n",
    "varis = [\"Variance:\",np.var(p25),np.var(p50),np.var(p75)]\n",
    "print(tabulate([collabels,means,varis],headers=\"firstrow\",tablefmt=\"fancygrid\"))"
   ]
  },
  {
   "cell_type": "code",
   "execution_count": null,
   "id": "16cf2eec-1f41-48a1-b5fc-40b851fb1cab",
   "metadata": {},
   "outputs": [],
   "source": []
  }
 ],
 "metadata": {
  "kernelspec": {
   "display_name": "Base",
   "language": "python",
   "name": "base"
  },
  "language_info": {
   "codemirror_mode": {
    "name": "ipython",
    "version": 3
   },
   "file_extension": ".py",
   "mimetype": "text/x-python",
   "name": "python",
   "nbconvert_exporter": "python",
   "pygments_lexer": "ipython3",
   "version": "3.9.7"
  }
 },
 "nbformat": 4,
 "nbformat_minor": 5
}
