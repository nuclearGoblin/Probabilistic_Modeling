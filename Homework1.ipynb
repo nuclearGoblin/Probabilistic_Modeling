{
 "cells": [
  {
   "cell_type": "code",
   "execution_count": 1,
   "id": "724e385b-b8f5-4f90-8ba3-4fdd4bcb4ad8",
   "metadata": {},
   "outputs": [],
   "source": [
    "from numpy.random import default_rng as rng\n",
    "import numpy as np"
   ]
  },
  {
   "cell_type": "markdown",
   "id": "628063f7-83ee-4c3e-9f50-ced2f9f0e40a",
   "metadata": {},
   "source": [
    "# Q1B"
   ]
  },
  {
   "cell_type": "code",
   "execution_count": 2,
   "id": "17ab05d3-b6ae-4974-b39e-f5aeb0f0c24c",
   "metadata": {},
   "outputs": [
    {
     "name": "stdout",
     "output_type": "stream",
     "text": [
      "Total sums less than y: 443945 \n",
      "Simulated probability: 0.443945\n"
     ]
    }
   ],
   "source": [
    "num = int(1e+06)\n",
    "tru = 0\n",
    "x1 = rng().exponential(1/2,num)\n",
    "x2 = rng().exponential(1/2,num)\n",
    "y  = rng().exponential(1,num)\n",
    "for i in range(num):\n",
    "    if x1[i] + x2[i] < y[i]:\n",
    "        tru += 1\n",
    "print(\"Total sums less than y:\",tru,\"\\nSimulated probability:\",tru/num)"
   ]
  },
  {
   "cell_type": "markdown",
   "id": "cc2bed5e-a6bd-4325-8ded-0be27e2d277b",
   "metadata": {},
   "source": [
    "# Q2A"
   ]
  },
  {
   "cell_type": "code",
   "execution_count": 3,
   "id": "60290790-30cd-4275-9648-9092a98ee055",
   "metadata": {},
   "outputs": [
    {
     "name": "stdout",
     "output_type": "stream",
     "text": [
      "Expected value: 1.2730745039557334 (Analytic:) 1.2732395447351628 \n",
      "Variance: 6.791227760528814 (Analytic:) 0.37886106172259537\n"
     ]
    }
   ],
   "source": [
    "num = int(1e+06)\n",
    "angle = rng().uniform(0,2*np.pi,num)\n",
    "dist = ( ( 1 - np.cos(angle) )**2 + np.sin(angle)**2 )**(1/2)\n",
    "ex = sum(dist)/len(dist)\n",
    "var = sum((angle - ex)**2)/len(angle)\n",
    "print(\"Expected value:\",ex,\"(Analytic:)\",4/np.pi,\"\\nVariance:\",var,\"(Analytic:)\",2-(4/np.pi)**2)"
   ]
  },
  {
   "cell_type": "markdown",
   "id": "e72fa8ad-dee2-4e97-a219-73e06b8591ca",
   "metadata": {},
   "source": [
    "# Q3"
   ]
  },
  {
   "cell_type": "code",
   "execution_count": 4,
   "id": "a2523e30-0168-4c68-a3a4-2455cf38dea3",
   "metadata": {},
   "outputs": [
    {
     "name": "stdout",
     "output_type": "stream",
     "text": [
      "Expected value: 1.5001022908352486 \n",
      "Variance: 0.7390367449647859\n"
     ]
    }
   ],
   "source": [
    "num = int(1e+07)\n",
    "a = 4\n",
    "x = (1 - rng().uniform(0,1,num))**(1/(1 - a))\n",
    "ex = sum(x)/len(x)\n",
    "var = sum((x - ex)**2)/len(x)\n",
    "print(\"Expected value:\",ex,\"\\nVariance:\",var)"
   ]
  },
  {
   "cell_type": "markdown",
   "id": "9b19d9e3-ffb0-4ac6-bdf9-8ec930103df5",
   "metadata": {},
   "source": [
    "# Q4"
   ]
  },
  {
   "cell_type": "code",
   "execution_count": 5,
   "id": "1904b6e3-5429-465e-ab0f-6ed01908c117",
   "metadata": {},
   "outputs": [
    {
     "name": "stdout",
     "output_type": "stream",
     "text": [
      "Expected value: 0.90577672495415 \n",
      "Variance: 0.1800833403683983\n"
     ]
    }
   ],
   "source": [
    "num = int(1e+06)\n",
    "x1 = rng().uniform(-1,1,num)\n",
    "y1 = rng().uniform(-1,1,num)\n",
    "x2 = rng().uniform(-1,1,num)\n",
    "y2 = rng().uniform(-1,1,num)\n",
    "for i in range(num):\n",
    "    if x1[i]**2 + y1[i]**2 > 1:\n",
    "        bad = True\n",
    "        while(bad):\n",
    "            new = rng().uniform(-1,1,2)\n",
    "            if new[0]**2+new[1]**2 <= 1:\n",
    "                bad = False\n",
    "        x1[i] = new[0]\n",
    "        y1[i] = new[1]\n",
    "    if x2[i]**2 + y2[i]**2 > 1:\n",
    "        bad = True\n",
    "        while(bad):\n",
    "            new = rng().uniform(-1,1,2)\n",
    "            if new[0]**2+new[1]**2 <= 1:\n",
    "                bad = False\n",
    "        x2[i] = new[0]\n",
    "        y2[i] = new[1]\n",
    "xdist = x1 - x2\n",
    "ydist = y1 - y2\n",
    "dist = np.sqrt(xdist**2+ydist**2)\n",
    "ex = sum(dist)/len(dist)\n",
    "var = sum((dist - ex)**2)/num\n",
    "print(\"Expected value:\",ex,\"\\nVariance:\",var)"
   ]
  },
  {
   "cell_type": "markdown",
   "id": "69370a9d-4cd4-4fe5-95a4-a23be6f96500",
   "metadata": {},
   "source": [
    "# Q5"
   ]
  },
  {
   "cell_type": "code",
   "execution_count": 6,
   "id": "feb4ddc0-dee0-437e-93de-fe5a5beb4a52",
   "metadata": {},
   "outputs": [
    {
     "name": "stdout",
     "output_type": "stream",
     "text": [
      "Expected value: 4.67337 \n",
      "Variance: 1.5430828431006227\n"
     ]
    }
   ],
   "source": [
    "num = int(1e+05)\n",
    "x = 0\n",
    "n = []\n",
    "for i in range(num):\n",
    "    #Want to do this after n has incremented because python counts from 0\n",
    "    j = 0\n",
    "    while x <= 2:\n",
    "        j += 1\n",
    "        x += rng().uniform(0,1,1)[0]\n",
    "    x = 0 #reset\n",
    "    n.append(j) #save value\n",
    "    print(\"{:.2f}%\".format(i/num*100),end=\"\\r\")\n",
    "ex = sum(n)/num\n",
    "var = sum([(x - ex)**2 for x in n])/num\n",
    "print(\"Expected value:\",ex,\"\\nVariance:\",var)"
   ]
  }
 ],
 "metadata": {
  "kernelspec": {
   "display_name": "Python 3 (ipykernel)",
   "language": "python",
   "name": "python3"
  },
  "language_info": {
   "codemirror_mode": {
    "name": "ipython",
    "version": 3
   },
   "file_extension": ".py",
   "mimetype": "text/x-python",
   "name": "python",
   "nbconvert_exporter": "python",
   "pygments_lexer": "ipython3",
   "version": "3.9.7"
  }
 },
 "nbformat": 4,
 "nbformat_minor": 5
}
