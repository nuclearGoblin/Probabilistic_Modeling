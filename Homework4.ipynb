{
 "cells": [
  {
   "cell_type": "code",
   "execution_count": 1,
   "id": "0f4a7360-40a9-469e-9c80-879e613fa36a",
   "metadata": {},
   "outputs": [],
   "source": [
    "import numpy as np\n",
    "from numpy.random import default_rng as rng\n",
    "rand = rng().uniform\n",
    "from tabulate import tabulate\n",
    "import matplotlib.pyplot as plt\n",
    "import lmfit as lf\n",
    "\n",
    "asin = np.arcsin\n",
    "pi = np.pi\n",
    "mean = np.mean #sum/number\n",
    "var = np.var #sum(entry - mean)^2/number\n",
    "\n",
    "def expm(A):\n",
    "    m,n = np.shape(A)\n",
    "    norm = np.sqrt(np.trace(A@A.H))\n",
    "    k = 0\n",
    "    fact = 1\n",
    "    matpow = np.eye(n)\n",
    "    expmat = np.matrix(np.zeros([n,n]))\n",
    "    lastnorm = 1\n",
    "    while lastnorm > 1e-8:\n",
    "        expmat = expmat + matpow/fact\n",
    "        lastnorm = np.max(abs(matpow/fact))\n",
    "        k += 1\n",
    "        fact *= k\n",
    "        matpow = A@matpow\n",
    "    return expmat"
   ]
  },
  {
   "cell_type": "markdown",
   "id": "8658d5a4-8cc3-409c-9ce6-57885177301c",
   "metadata": {},
   "source": [
    "# Q3b"
   ]
  },
  {
   "cell_type": "code",
   "execution_count": 2,
   "id": "956ff5f2-a7d6-4fe7-9b79-d0cacc88e135",
   "metadata": {},
   "outputs": [
    {
     "name": "stdout",
     "output_type": "stream",
     "text": [
      "[[0.1872624155647172 0.4606231041706458 0.3062607198576511\n",
      "  0.04585436791063182]\n",
      " [0.18424919143438565 0.46166409652685886 0.30790548272383195\n",
      "  0.046195798782766105]\n",
      " [0.18375540471430493 0.4618488628877141 0.30816757766701347\n",
      "  0.04625383942667605]\n",
      " [0.18341609701104658 0.46195380186415336 0.30839047390449376\n",
      "  0.04627304386050506]]\n",
      "0.18461538461538463 0.46153846153846156 0.3076923076923077 0.046153846153846156\n"
     ]
    }
   ],
   "source": [
    "Q = [[-1,1,0,0],\n",
    "     [2/5,-2,8/5,0],\n",
    "     [0,12/5,-3,3/5],\n",
    "     [0,0,4,-4]]\n",
    "Q = np.matrix(Q)\n",
    "\n",
    "print(expm(Q*5))\n",
    "print(12/65,6/13,4/13,3/65)"
   ]
  },
  {
   "cell_type": "markdown",
   "id": "857b1451-a5b8-494d-9e29-47a0f1c7cb2b",
   "metadata": {},
   "source": [
    "# Q4a"
   ]
  },
  {
   "cell_type": "code",
   "execution_count": 3,
   "id": "33818538-1015-4ecd-b526-11a4483aa9ec",
   "metadata": {},
   "outputs": [],
   "source": [
    "def transition(i,lam,mu):\n",
    "    if i == 0:\n",
    "        return 1\n",
    "    elif i == 9:\n",
    "        return 8\n",
    "    elif (i > 0) and (i < 9):\n",
    "        if rand() < lam/(lam+mu):\n",
    "            return i+1\n",
    "        else:\n",
    "            return i-1\n",
    "    else:\n",
    "        raise ValueError(\"Input value i must be between 1 and 9.\")\n",
    "def transitiontime(i,lam,mu):\n",
    "    if i == 0:\n",
    "        return rng().exponential(1/lam)\n",
    "    elif i == 9:\n",
    "        return rng().exponential(1/mu)\n",
    "    elif (i > 0) and (i < 9):\n",
    "        return rng().exponential(1/(mu+lam))\n",
    "    else:\n",
    "        raise ValueError(\"Input value i must be between 1 and 9.\")"
   ]
  },
  {
   "cell_type": "markdown",
   "id": "62f86061-de64-4b85-87d6-c3ae14a13458",
   "metadata": {},
   "source": [
    "# Q4b"
   ]
  },
  {
   "cell_type": "code",
   "execution_count": 4,
   "id": "7a5ad80e-e425-44df-af71-ee8ac33aa07e",
   "metadata": {},
   "outputs": [
    {
     "name": "stdout",
     "output_type": "stream",
     "text": [
      "[5.0856e-01 2.5570e-01 1.2360e-01 6.0880e-02 2.8480e-02 1.2900e-02\n",
      " 6.0400e-03 2.4100e-03 1.0000e-03 4.3000e-04]\n",
      "0.5004887585532747\n",
      "0.25024437927663734\n",
      "0.12512218963831867\n",
      "0.06256109481915934\n",
      "0.03128054740957967\n",
      "0.015640273704789834\n",
      "0.007820136852394917\n",
      "0.0039100684261974585\n",
      "0.0019550342130987292\n",
      "0.0009775171065493646\n"
     ]
    }
   ],
   "source": [
    "num = int(1e+05); t=5;\n",
    "lamset = 1; muset = 2;\n",
    "landings = np.zeros(10)\n",
    "for val in range(num):\n",
    "    i = 1; s = 0;\n",
    "    while s < t:\n",
    "        prev = i\n",
    "        s += transitiontime(i,lamset,muset)\n",
    "        i = transition(i,lamset,muset)\n",
    "    landings[prev] += 1\n",
    "print(landings/num)\n",
    "factor = 0\n",
    "for i in range(10):\n",
    "    factor += lamset**i*muset**(9-i)\n",
    "factor = muset**9/factor\n",
    "for i in range(10):\n",
    "    print((lamset/muset)**i*factor)"
   ]
  },
  {
   "cell_type": "markdown",
   "id": "2ace0ab6-5c77-45c1-8a39-ebc0e1cf7033",
   "metadata": {},
   "source": [
    "# Q4c"
   ]
  },
  {
   "cell_type": "code",
   "execution_count": 5,
   "id": "2aa22ea6-f694-4762-9035-51b773bc5349",
   "metadata": {},
   "outputs": [
    {
     "name": "stdout",
     "output_type": "stream",
     "text": [
      "975.3446978697581\n",
      "[[1013.]]\n"
     ]
    }
   ],
   "source": [
    "#Using varaibles from last time\n",
    "num = int(1e+03)\n",
    "times = []; goal = 9; start = 0;\n",
    "for val in range(num):\n",
    "    i = start; s = 0;\n",
    "    while i != goal:\n",
    "        s += transitiontime(i,lamset,muset)\n",
    "        i = transition(i,lamset,muset)\n",
    "    times.append(s)\n",
    "print(mean(times))\n",
    "\n",
    "def Q(lam,mu):\n",
    "    return [[-lam,lam,0,0,0,0,0,0,0,0],\n",
    "            [mu,-(lam+mu),lam,0,0,0,0,0,0,0],\n",
    "            [0,mu,-(lam+mu),lam,0,0,0,0,0,0],\n",
    "            [0,0,mu,-(lam+mu),lam,0,0,0,0,0],\n",
    "            [0,0,0,mu,-(lam+mu),lam,0,0,0,0],\n",
    "            [0,0,0,0,mu,-(lam+mu),lam,0,0,0],\n",
    "            [0,0,0,0,0,mu,-(lam+mu),lam,0,0],\n",
    "            [0,0,0,0,0,0,mu,-(lam+mu),lam,0],\n",
    "            [0,0,0,0,0,0,0,mu,-(lam+mu),lam],\n",
    "            [0,0,0,0,0,0,0,0,mu,-mu]]\n",
    "def Q_hat(lam,mu):\n",
    "    return [[-lam,lam,0,0,0,0,0,0,0],\n",
    "            [mu,-(lam+mu),lam,0,0,0,0,0,0],\n",
    "            [0,mu,-(lam+mu),lam,0,0,0,0,0],\n",
    "            [0,0,mu,-(lam+mu),lam,0,0,0,0],\n",
    "            [0,0,0,mu,-(lam+mu),lam,0,0,0],\n",
    "            [0,0,0,0,mu,-(lam+mu),lam,0,0],\n",
    "            [0,0,0,0,0,mu,-(lam+mu),lam,0],\n",
    "            [0,0,0,0,0,0,mu,-(lam+mu),lam],\n",
    "            [0,0,0,0,0,0,0,mu,-(lam+mu)]]\n",
    "\n",
    "resultvector = -np.matmul(np.linalg.inv(Q_hat(lamset,muset)),np.matrix(np.ones((9,1))))\n",
    "print(resultvector[start])"
   ]
  }
 ],
 "metadata": {
  "kernelspec": {
   "display_name": "Python 3 (ipykernel)",
   "language": "python",
   "name": "python3"
  },
  "language_info": {
   "codemirror_mode": {
    "name": "ipython",
    "version": 3
   },
   "file_extension": ".py",
   "mimetype": "text/x-python",
   "name": "python",
   "nbconvert_exporter": "python",
   "pygments_lexer": "ipython3",
   "version": "3.9.12"
  }
 },
 "nbformat": 4,
 "nbformat_minor": 5
}
