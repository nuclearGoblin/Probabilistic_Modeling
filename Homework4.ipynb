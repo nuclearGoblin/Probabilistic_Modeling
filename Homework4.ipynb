{
 "cells": [
  {
   "cell_type": "code",
   "execution_count": 1,
   "id": "0f4a7360-40a9-469e-9c80-879e613fa36a",
   "metadata": {},
   "outputs": [],
   "source": [
    "import numpy as np\n",
    "from numpy.random import default_rng as rng\n",
    "rand = rng().uniform\n",
    "from tabulate import tabulate\n",
    "import matplotlib.pyplot as plt\n",
    "import lmfit as lf\n",
    "\n",
    "asin = np.arcsin\n",
    "pi = np.pi\n",
    "mean = np.mean #sum/number\n",
    "var = np.var #sum(entry - mean)^2/number\n",
    "\n",
    "def expm(A):\n",
    "    m,n = np.shape(A)\n",
    "    norm = np.sqrt(np.trace(A@A.H))\n",
    "    k = 0\n",
    "    fact = 1\n",
    "    matpow = np.eye(n)\n",
    "    expmat = np.matrix(np.zeros([n,n]))\n",
    "    lastnorm = 1\n",
    "    while lastnorm > 1e-8:\n",
    "        expmat = expmat + matpow/fact\n",
    "        lastnorm = np.max(abs(matpow/fact))\n",
    "        k += 1\n",
    "        fact *= k\n",
    "        matpow = A@matpow\n",
    "    return expmat"
   ]
  },
  {
   "cell_type": "markdown",
   "id": "8658d5a4-8cc3-409c-9ce6-57885177301c",
   "metadata": {},
   "source": [
    "# Q3b"
   ]
  },
  {
   "cell_type": "code",
   "execution_count": 12,
   "id": "956ff5f2-a7d6-4fe7-9b79-d0cacc88e135",
   "metadata": {},
   "outputs": [
    {
     "name": "stdout",
     "output_type": "stream",
     "text": [
      "[[0.1872623801881378 0.460623207550802 0.30626007271248945\n",
      "  0.04585366419790908]\n",
      " [0.18424905103796588 0.4616635603337412 0.3078984049332144\n",
      "  0.046195455180662405]\n",
      " [0.18375573370479825 0.4618504133373303 0.3081615616617742\n",
      "  0.04625565730649656]\n",
      " [0.18341651585610586 0.461941880864062 0.30837163880808555\n",
      "  0.046293966487805364]]\n",
      "0.18461538461538463 0.46153846153846156 0.3076923076923077 0.046153846153846156\n"
     ]
    }
   ],
   "source": [
    "Q = [[-1,1,0,0],\n",
    "     [2/5,-2,8/5,0],\n",
    "     [0,12/5,-3,3/5],\n",
    "     [0,0,4,-4]]\n",
    "Q = np.matrix(Q)\n",
    "\n",
    "print(expm(Q*5))\n",
    "print(12/65,6/13,4/13,3/65)"
   ]
  },
  {
   "cell_type": "markdown",
   "id": "857b1451-a5b8-494d-9e29-47a0f1c7cb2b",
   "metadata": {},
   "source": [
    "# Q4a"
   ]
  },
  {
   "cell_type": "code",
   "execution_count": 14,
   "id": "33818538-1015-4ecd-b526-11a4483aa9ec",
   "metadata": {},
   "outputs": [],
   "source": [
    "def transition(i,lam,mu):\n",
    "    if i == 1:\n",
    "        return 2\n",
    "    elif i == 9:\n",
    "        return 8\n",
    "    elif (i > 1) and (i < 9):\n",
    "        if rand() < lam/(lam+mu):\n",
    "            return i+1\n",
    "        else:\n",
    "            return i-1\n",
    "    else:\n",
    "        raise ValueError(\"Input value i must be between 1 and 9.\")\n",
    "def transitiontime(i,lam,mu):\n",
    "    if i == 1:\n",
    "        return rng().exponential(1/lam)\n",
    "    elif i == 9:\n",
    "        return rng().exponential(1/mu)\n",
    "    elif (i > 1) and (i < 9):\n",
    "        return rng().exponential(1/(mu+lam))\n",
    "    else:\n",
    "        raise ValueError(\"Input value i must be between 1 and 9.\")"
   ]
  },
  {
   "cell_type": "markdown",
   "id": "62f86061-de64-4b85-87d6-c3ae14a13458",
   "metadata": {},
   "source": [
    "# Q4b"
   ]
  },
  {
   "cell_type": "code",
   "execution_count": null,
   "id": "7a5ad80e-e425-44df-af71-ee8ac33aa07e",
   "metadata": {},
   "outputs": [],
   "source": [
    "num = int(1e+06); t=5;\n",
    "lamset = 1; muset = 2;\n",
    "landings = np.zeros(9)\n",
    "for val in range(num):\n",
    "    i = 1; s = 0;\n",
    "    while s < t:\n",
    "        prev = i\n",
    "        s += transitiontime(i,lamset,muset)\n",
    "        i = transition(i,lamset,muset)\n",
    "    landings[prev-1] += 1\n",
    "print(landings/sum(landings))"
   ]
  },
  {
   "cell_type": "code",
   "execution_count": null,
   "id": "87abf69e-6b6a-43af-b8bc-8c7887bfdd14",
   "metadata": {},
   "outputs": [],
   "source": []
  }
 ],
 "metadata": {
  "kernelspec": {
   "display_name": "Python 3 (ipykernel)",
   "language": "python",
   "name": "python3"
  },
  "language_info": {
   "codemirror_mode": {
    "name": "ipython",
    "version": 3
   },
   "file_extension": ".py",
   "mimetype": "text/x-python",
   "name": "python",
   "nbconvert_exporter": "python",
   "pygments_lexer": "ipython3",
   "version": "3.9.7"
  }
 },
 "nbformat": 4,
 "nbformat_minor": 5
}
