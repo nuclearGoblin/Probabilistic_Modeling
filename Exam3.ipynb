{
 "cells": [
  {
   "cell_type": "code",
   "execution_count": 1,
   "id": "d528b6b5-a109-403f-b086-f70f1ec3e345",
   "metadata": {},
   "outputs": [],
   "source": [
    "import numpy as np\n",
    "import math\n",
    "from numpy.random import default_rng as rng\n",
    "rand = rng().uniform\n",
    "from tabulate import tabulate\n",
    "import matplotlib.pyplot as plt\n",
    "import lmfit as lf\n",
    "\n",
    "asin = np.arcsin\n",
    "pi = np.pi\n",
    "mean = np.mean #sum/number\n",
    "var = np.var #sum(entry - mean)^2/number\n",
    "sqrt = np.sqrt\n",
    "ln = math.log"
   ]
  },
  {
   "cell_type": "markdown",
   "id": "6667d7ce-2aa6-49d6-91b0-748f4065182e",
   "metadata": {},
   "source": [
    "# Q2d"
   ]
  },
  {
   "cell_type": "code",
   "execution_count": 2,
   "id": "5d8e9a45-05a6-4e38-aa86-9819d293e605",
   "metadata": {},
   "outputs": [
    {
     "name": "stdout",
     "output_type": "stream",
     "text": [
      "1.136101854751639\n",
      "1.1353352832366128\n"
     ]
    }
   ],
   "source": [
    "l = 1; t = 2; num = int(1e+06); results = [];\n",
    "for i in range(num):\n",
    "    s = 0; q = 0;\n",
    "    while s < t:\n",
    "        q = s #save the last value of q. \n",
    "        #this means that, when s passes t, \n",
    "        #we know what it last was when it was below t.\n",
    "        s += rng().exponential(1/l)\n",
    "    results.append(q)\n",
    "print(mean(results))\n",
    "print(t+np.exp(-l*t)/l-1/l) #check vs. theory"
   ]
  },
  {
   "cell_type": "markdown",
   "id": "6f35e97f-c8ea-4303-92e0-9c6651346e58",
   "metadata": {},
   "source": [
    "# Q3b"
   ]
  },
  {
   "cell_type": "code",
   "execution_count": 3,
   "id": "bd68599c-025e-4c90-9cfc-af437c40308a",
   "metadata": {},
   "outputs": [
    {
     "ename": "KeyboardInterrupt",
     "evalue": "",
     "output_type": "error",
     "traceback": [
      "\u001b[1;31m---------------------------------------------------------------------------\u001b[0m",
      "\u001b[1;31mKeyboardInterrupt\u001b[0m                         Traceback (most recent call last)",
      "Cell \u001b[1;32mIn [3], line 9\u001b[0m\n\u001b[0;32m      7\u001b[0m \u001b[38;5;28;01mwhile\u001b[39;00m s\u001b[38;5;241m<\u001b[39mt:\n\u001b[0;32m      8\u001b[0m     store \u001b[38;5;241m=\u001b[39m Z\n\u001b[1;32m----> 9\u001b[0m     Z \u001b[38;5;241m+\u001b[39m\u001b[38;5;241m=\u001b[39m \u001b[43mrng\u001b[49m\u001b[43m(\u001b[49m\u001b[43m)\u001b[49m\u001b[38;5;241m.\u001b[39mnormal(scale\u001b[38;5;241m=\u001b[39msqrt(dt));\n\u001b[0;32m     10\u001b[0m     s \u001b[38;5;241m+\u001b[39m\u001b[38;5;241m=\u001b[39m dt\n\u001b[0;32m     11\u001b[0m     \u001b[38;5;28;01mif\u001b[39;00m s\u001b[38;5;241m<\u001b[39m\u001b[38;5;241m=\u001b[39m\u001b[38;5;241m2\u001b[39m:\n",
      "File \u001b[1;32m_generator.pyx:4655\u001b[0m, in \u001b[0;36mnumpy.random._generator.default_rng\u001b[1;34m()\u001b[0m\n",
      "File \u001b[1;32m_pcg64.pyx:130\u001b[0m, in \u001b[0;36mnumpy.random._pcg64.PCG64.__init__\u001b[1;34m()\u001b[0m\n",
      "File \u001b[1;32m~\\anaconda3\\lib\\contextlib.py:79\u001b[0m, in \u001b[0;36mContextDecorator.__call__.<locals>.inner\u001b[1;34m(*args, **kwds)\u001b[0m\n\u001b[0;32m     76\u001b[0m \u001b[38;5;129m@wraps\u001b[39m(func)\n\u001b[0;32m     77\u001b[0m \u001b[38;5;28;01mdef\u001b[39;00m \u001b[38;5;21minner\u001b[39m(\u001b[38;5;241m*\u001b[39margs, \u001b[38;5;241m*\u001b[39m\u001b[38;5;241m*\u001b[39mkwds):\n\u001b[0;32m     78\u001b[0m     \u001b[38;5;28;01mwith\u001b[39;00m \u001b[38;5;28mself\u001b[39m\u001b[38;5;241m.\u001b[39m_recreate_cm():\n\u001b[1;32m---> 79\u001b[0m         \u001b[38;5;28;01mreturn\u001b[39;00m func(\u001b[38;5;241m*\u001b[39margs, \u001b[38;5;241m*\u001b[39m\u001b[38;5;241m*\u001b[39mkwds)\n",
      "\u001b[1;31mKeyboardInterrupt\u001b[0m: "
     ]
    }
   ],
   "source": [
    "num = int(1e+3); t = 5; dt = 1e-5; successes=0;\n",
    "for i in range(num):\n",
    "    s = 1; Z = rng().normal();\n",
    "    #rather than start at 0 and build up to 1, discarding all data in (0,1),\n",
    "    #I start at t=1 by selecting Z(1) at random.\n",
    "    firstregion = False; secondregion = False;\n",
    "    while s<t:\n",
    "        store = Z\n",
    "        Z += rng().normal(scale=sqrt(dt));\n",
    "        s += dt\n",
    "        if s<=2:\n",
    "            if (Z == 0) or ((store + Z < store) ^ (store + Z < Z)):\n",
    "    #If the sum of two values is less than one value but greater than the other,\n",
    "    #the two values must be opposite in sign. (^ is the exclusive or)\n",
    "                firstregion = True;\n",
    "                Z += rng().normal(scale=sqrt(3-s)); s = 3;\n",
    "                #If we made it, jump up to the next region of interest, like beginning\n",
    "        if (s>2) and not firstregion:\n",
    "            s = 5 #We missed our criteria, so just abandon ship here.\n",
    "        if (s>=3) and (s<=5):\n",
    "            if (Z == 0) or ((store + Z < store) ^ (store + Z < Z)):\n",
    "                secondregion = True; successes += 1;\n",
    "                s = 5 #We reached our criteria, so jump to the next round.\n",
    "print(successes/num)        "
   ]
  },
  {
   "cell_type": "markdown",
   "id": "d7fb4993-bcc0-4134-a2bd-7dc370cabbcc",
   "metadata": {},
   "source": [
    "# Q4"
   ]
  },
  {
   "cell_type": "code",
   "execution_count": null,
   "id": "ce7b72b2-d276-4814-a959-65287ef621f3",
   "metadata": {},
   "outputs": [],
   "source": [
    "xplot = np.linspace(0,2,int(1e+06))\n",
    "plt.plot(xplot,ln(5)/(2-xplot**2/2))\n",
    "plt.ylim(0,10)"
   ]
  },
  {
   "cell_type": "code",
   "execution_count": 4,
   "id": "62ed496c-c1ec-4f14-8f21-9cdbe84d5cf3",
   "metadata": {},
   "outputs": [
    {
     "name": "stderr",
     "output_type": "stream",
     "text": [
      "C:\\Users\\stard\\AppData\\Local\\Temp\\ipykernel_18200\\618365404.py:2: RuntimeWarning: divide by zero encountered in true_divide\n",
      "  plt.plot(xplot,ln(5)/(2-xplot**2/2))\n"
     ]
    },
    {
     "data": {
      "image/png": "[encoded data removed]",
      "text/plain": [
       "<Figure size 640x480 with 1 Axes>"
      ]
     },
     "metadata": {},
     "output_type": "display_data"
    }
   ],
   "source": [
    "xplot = np.linspace(0,2,int(1e+06))\n",
    "plt.plot(xplot,ln(5)/(2-xplot**2/2))\n",
    "\n",
    "dt = 1e-5; t=5; a=1; m=2;\n",
    "num = int(1e+4); x = np.linspace(0,2,int(5e+01)); y = []\n",
    "for i in x:\n",
    "    total = 0; current = a; s=0;\n",
    "    for j in range(num):\n",
    "        while current < t:\n",
    "            s += dt\n",
    "            current += current*(2*dt + i*rng().normal(scale=sqrt(dt)))\n",
    "            if(current == 0):\n",
    "                s = np.inf\n",
    "                current = 5\n",
    "        total += s\n",
    "        if total == np.inf:\n",
    "            break\n",
    "    y.append(total/num)\n",
    "    \n",
    "#print(y)\n",
    "plt.scatter(x,y,marker='o')\n",
    "plt.ylim(0,10)\n",
    "plt.show()"
   ]
  },
  {
   "cell_type": "code",
   "execution_count": null,
   "id": "ad6dfab4-fa24-4dda-a124-69788d5d1763",
   "metadata": {},
   "outputs": [],
   "source": []
  }
 ],
 "metadata": {
  "kernelspec": {
   "display_name": "Python 3 (ipykernel)",
   "language": "python",
   "name": "python3"
  },
  "language_info": {
   "codemirror_mode": {
    "name": "ipython",
    "version": 3
   },
   "file_extension": ".py",
   "mimetype": "text/x-python",
   "name": "python",
   "nbconvert_exporter": "python",
   "pygments_lexer": "ipython3",
   "version": "3.9.12"
  }
 },
 "nbformat": 4,
 "nbformat_minor": 5
}
