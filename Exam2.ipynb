{
 "cells": [
  {
   "cell_type": "code",
   "execution_count": 10,
   "id": "d757bf80-2eea-4083-be1c-c32fc4bd7d66",
   "metadata": {},
   "outputs": [],
   "source": [
    "import numpy as np\n",
    "import math\n",
    "from numpy.random import default_rng as rng\n",
    "rand = rng().uniform\n",
    "from tabulate import tabulate\n",
    "import matplotlib.pyplot as plt\n",
    "import lmfit as lf\n",
    "\n",
    "asin = np.arcsin\n",
    "pi = np.pi\n",
    "mean = np.mean #sum/number\n",
    "var = np.var #sum(entry - mean)^2/number"
   ]
  },
  {
   "cell_type": "markdown",
   "id": "945744d8-4530-401a-a5cd-e4418099a3ec",
   "metadata": {},
   "source": [
    "# Q2b"
   ]
  },
  {
   "cell_type": "code",
   "execution_count": 2,
   "id": "6f56eca8-58bf-4d29-ae13-ff57d5c4e3c4",
   "metadata": {},
   "outputs": [
    {
     "ename": "KeyboardInterrupt",
     "evalue": "",
     "output_type": "error",
     "traceback": [
      "\u001b[1;31m---------------------------------------------------------------------------\u001b[0m",
      "\u001b[1;31mKeyboardInterrupt\u001b[0m                         Traceback (most recent call last)",
      "Input \u001b[1;32mIn [2]\u001b[0m, in \u001b[0;36m<cell line: 4>\u001b[1;34m()\u001b[0m\n\u001b[0;32m      8\u001b[0m     \u001b[38;5;28;01mwhile\u001b[39;00m s \u001b[38;5;241m<\u001b[39m t:\n\u001b[0;32m      9\u001b[0m         n \u001b[38;5;241m+\u001b[39m\u001b[38;5;241m=\u001b[39m \u001b[38;5;241m1\u001b[39m\n\u001b[1;32m---> 10\u001b[0m         s \u001b[38;5;241m+\u001b[39m\u001b[38;5;241m=\u001b[39m \u001b[43mrng\u001b[49m\u001b[43m(\u001b[49m\u001b[43m)\u001b[49m\u001b[38;5;241m.\u001b[39mexponential(\u001b[38;5;241m1\u001b[39m\u001b[38;5;241m/\u001b[39mlam);\n\u001b[0;32m     11\u001b[0m     results\u001b[38;5;241m.\u001b[39mappend(n\u001b[38;5;241m-\u001b[39m\u001b[38;5;241m1\u001b[39m)\n\u001b[0;32m     13\u001b[0m \u001b[38;5;28mprint\u001b[39m(\u001b[38;5;124m\"\u001b[39m\u001b[38;5;124mMean:\u001b[39m\u001b[38;5;124m\"\u001b[39m,mean(results),\u001b[38;5;124m\"\u001b[39m\u001b[38;5;124m(expected:\u001b[39m\u001b[38;5;124m\"\u001b[39m,lam\u001b[38;5;241m*\u001b[39mmu,\u001b[38;5;124m\"\u001b[39m\u001b[38;5;124m)\u001b[39m\u001b[38;5;124m\"\u001b[39m)\n",
      "File \u001b[1;32m_generator.pyx:4745\u001b[0m, in \u001b[0;36mnumpy.random._generator.default_rng\u001b[1;34m()\u001b[0m\n",
      "File \u001b[1;32m_pcg64.pyx:121\u001b[0m, in \u001b[0;36mnumpy.random._pcg64.PCG64.__init__\u001b[1;34m()\u001b[0m\n",
      "File \u001b[1;32mbit_generator.pyx:523\u001b[0m, in \u001b[0;36mnumpy.random.bit_generator.BitGenerator.__init__\u001b[1;34m()\u001b[0m\n",
      "File \u001b[1;32mbit_generator.pyx:313\u001b[0m, in \u001b[0;36mnumpy.random.bit_generator.SeedSequence.__init__\u001b[1;34m()\u001b[0m\n",
      "File \u001b[1;32mbit_generator.pyx:398\u001b[0m, in \u001b[0;36mnumpy.random.bit_generator.SeedSequence.get_assembled_entropy\u001b[1;34m()\u001b[0m\n",
      "File \u001b[1;32m<__array_function__ internals>:180\u001b[0m, in \u001b[0;36mconcatenate\u001b[1;34m(*args, **kwargs)\u001b[0m\n",
      "\u001b[1;31mKeyboardInterrupt\u001b[0m: "
     ]
    }
   ],
   "source": [
    "num = int(1e+06); results = [];\n",
    "lam = 1; mu = 2; sig = 4;\n",
    "\n",
    "for i in range(num):\n",
    "    n = 0\n",
    "    s = 0\n",
    "    t = rng().exponential(mu); #builtin uses exponential as 1/lambda instead of lambda.\n",
    "    while s < t:\n",
    "        n += 1\n",
    "        s += rng().exponential(1/lam);\n",
    "    results.append(n-1)\n",
    "\n",
    "print(\"Mean:\",mean(results),\"(expected:\",lam*mu,\")\")\n",
    "print(\"Variance:\",var(results),\"(expected:\",lam**2*sig+lam*mu,\")\")"
   ]
  },
  {
   "cell_type": "markdown",
   "id": "d8e53d81-d225-47e3-863d-eb69a23301e3",
   "metadata": {},
   "source": [
    "# Q3c"
   ]
  },
  {
   "cell_type": "code",
   "execution_count": 7,
   "id": "776025cf-7f8b-4ccf-b7ba-3725308a2198",
   "metadata": {},
   "outputs": [
    {
     "name": "stdout",
     "output_type": "stream",
     "text": [
      "1 : 2.787541006692761\n",
      "2 : 2.991920888194416\n"
     ]
    }
   ],
   "source": [
    "def printtime(start):\n",
    "    num = int(1e+05); results = []\n",
    "    r = [10,5,2]\n",
    "    for i in range(num):\n",
    "        n = start; t = 0\n",
    "        while n < 3:\n",
    "            t += rng().exponential(1/r[n-1])\n",
    "            if n == 1:\n",
    "                if rand() <= 9/10:\n",
    "                    n = 2\n",
    "                else:\n",
    "                    n = 3\n",
    "            elif n == 2:\n",
    "                n = 1\n",
    "        results.append(t)\n",
    "    print(start,\":\",mean(results))\n",
    "\n",
    "printtime(1)\n",
    "printtime(2)"
   ]
  },
  {
   "cell_type": "markdown",
   "id": "83faf5ed-c7f6-416a-a90e-12b52c29bdbc",
   "metadata": {},
   "source": [
    "# Q4c"
   ]
  },
  {
   "cell_type": "code",
   "execution_count": 28,
   "id": "c257c547-3780-4f46-8f49-9a90b1734896",
   "metadata": {},
   "outputs": [
    {
     "name": "stdout",
     "output_type": "stream",
     "text": [
      "[0.0112 0.0366 0.0895 0.1374 0.1741 0.1733 0.1491 0.0985 0.0632 0.0356\n",
      " 0.0178 0.0083 0.0032 0.0011 0.0007 0.0004]\n",
      "[0.006737946999085467, 0.03368973499542734, 0.08422433748856833, 0.14037389581428056, 0.1754673697678507, 0.1754673697678507, 0.1462228081398756, 0.10444486295705399, 0.06527803934815875, 0.03626557741564375, 0.018132788707821874, 0.00824217668537358, 0.0034342402855723243, 0.001320861648297048, 0.0004717363029632314, 0.00015724543432107713]\n"
     ]
    }
   ],
   "source": [
    "num = int(1e+04); results = []\n",
    "lam = 5; mu = 1; state = 0\n",
    "for i in range(num):\n",
    "    t = 0\n",
    "    while t < 200:\n",
    "        if state == 0:\n",
    "            t += rng().exponential(1/lam)\n",
    "            state = 1\n",
    "        else:\n",
    "            rate = mu + lam/(state+1)\n",
    "            t += rng().exponential(1/rate)\n",
    "            if rand() <= mu/rate:\n",
    "                state -= 1\n",
    "            else:\n",
    "                state += 1\n",
    "    results.append(state)\n",
    "counts = np.zeros(max(results)+1)\n",
    "for x in results:\n",
    "    counts[x] += 1\n",
    "expected = [(lam/mu)**x/math.factorial(x)*np.exp(-lam/mu) for x in range(max(results)+1)]\n",
    "#print(results)\n",
    "print(counts/sum(counts))\n",
    "print(expected)"
   ]
  }
 ],
 "metadata": {
  "kernelspec": {
   "display_name": "Python 3 (ipykernel)",
   "language": "python",
   "name": "python3"
  },
  "language_info": {
   "codemirror_mode": {
    "name": "ipython",
    "version": 3
   },
   "file_extension": ".py",
   "mimetype": "text/x-python",
   "name": "python",
   "nbconvert_exporter": "python",
   "pygments_lexer": "ipython3",
   "version": "3.9.12"
  }
 },
 "nbformat": 4,
 "nbformat_minor": 5
}
