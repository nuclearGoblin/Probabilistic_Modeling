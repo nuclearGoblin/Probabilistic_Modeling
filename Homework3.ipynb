{
 "cells": [
  {
   "cell_type": "code",
   "execution_count": 1,
   "id": "05fcade3-c630-4367-bb22-0b79a1072229",
   "metadata": {},
   "outputs": [],
   "source": [
    "import numpy as np\n",
    "from numpy.random import default_rng as rng\n",
    "rand = rng().uniform\n",
    "from tabulate import tabulate\n",
    "\n",
    "asin = np.arcsin\n",
    "pi = np.pi\n",
    "mean = np.mean #sum/number\n",
    "var = np.var #(sum - mean)^2/number"
   ]
  },
  {
   "cell_type": "markdown",
   "id": "8325d17d-a212-4be7-9578-d6684117f68f",
   "metadata": {},
   "source": [
    "# Q1a"
   ]
  },
  {
   "cell_type": "code",
   "execution_count": null,
   "id": "9eba669d-ca61-48b0-9678-454d0544e19f",
   "metadata": {},
   "outputs": [],
   "source": []
  }
 ],
 "metadata": {
  "kernelspec": {
   "display_name": "Python 3 (ipykernel)",
   "language": "python",
   "name": "python3"
  },
  "language_info": {
   "codemirror_mode": {
    "name": "ipython",
    "version": 3
   },
   "file_extension": ".py",
   "mimetype": "text/x-python",
   "name": "python",
   "nbconvert_exporter": "python",
   "pygments_lexer": "ipython3",
   "version": "3.9.7"
  }
 },
 "nbformat": 4,
 "nbformat_minor": 5
}
