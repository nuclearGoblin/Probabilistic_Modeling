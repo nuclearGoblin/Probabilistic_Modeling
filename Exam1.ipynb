{
 "cells": [
  {
   "cell_type": "code",
   "execution_count": 83,
   "id": "a7a9346c-d475-4a35-a87b-4a7e7c0f8491",
   "metadata": {},
   "outputs": [],
   "source": [
    "import numpy as np\n",
    "from numpy.random import default_rng as rng\n",
    "rand = rng().uniform\n",
    "from tabulate import tabulate\n",
    "\n",
    "asin = np.arcsin\n",
    "pi = np.pi\n",
    "mean = np.mean #sum/number\n",
    "var = np.var #(sum - mean)^2/number"
   ]
  },
  {
   "cell_type": "markdown",
   "id": "0ed59a03-108c-4681-8c0d-d2f9daa7a06b",
   "metadata": {},
   "source": [
    "# Q1b"
   ]
  },
  {
   "cell_type": "code",
   "execution_count": 2,
   "id": "e3d646e2-7025-4e9e-90de-36ab4df58938",
   "metadata": {},
   "outputs": [
    {
     "name": "stdout",
     "output_type": "stream",
     "text": [
      "Variance: 2.58497024479955\n"
     ]
    }
   ],
   "source": [
    "n = int(1e+06); results = []\n",
    "for i in range(n):\n",
    "    if rand() < 1/2:\n",
    "        g = 0\n",
    "    else:\n",
    "        g = pi\n",
    "    u = rand()/pi\n",
    "    results.append(asin((u*pi)**(1/2)) + g)\n",
    "variance = var(results)\n",
    "print(\"Variance:\",variance)"
   ]
  },
  {
   "cell_type": "markdown",
   "id": "f182e5f4-1761-42c1-9dcd-bef446124005",
   "metadata": {},
   "source": [
    "# Q2b"
   ]
  },
  {
   "cell_type": "code",
   "execution_count": 80,
   "id": "3261bb99-2e28-4e05-a517-f6ac8701c52f",
   "metadata": {},
   "outputs": [
    {
     "name": "stdout",
     "output_type": "stream",
     "text": [
      "X1000: 1.9317444166204978\n",
      "X1000: 1.9941797374881787\n",
      "X10^9: 2.0001853470068593\n"
     ]
    }
   ],
   "source": [
    "mean = 0;\n",
    "for x in rand(0,1,1000):\n",
    "    mean += x**(-1/2)\n",
    "print(\"X1000:\",mean/1000)\n",
    "\n",
    "mean = 0;\n",
    "for x in rand(0,1,int(1e+06)):\n",
    "    mean += x**(-1/2)\n",
    "print(\"X1000:\",mean/1e+06)\n",
    "   \n",
    "mean = 0;\n",
    "for x in rand(0,1,int(1e+09)):\n",
    "    mean += x**(-1/2)\n",
    "print(\"X10^9:\",mean/1e+09)"
   ]
  },
  {
   "cell_type": "markdown",
   "id": "446bbcd6-da6f-42e4-8db2-5a1714d7eedc",
   "metadata": {},
   "source": [
    "# Q2c"
   ]
  },
  {
   "cell_type": "code",
   "execution_count": 5,
   "id": "ab8803c2-f074-4049-a39b-ede843ab4d65",
   "metadata": {},
   "outputs": [
    {
     "name": "stdout",
     "output_type": "stream",
     "text": [
      "E(X): 26768294.774019\n",
      "Var(X): 221344984562101.7\n"
     ]
    }
   ],
   "source": [
    "#Could not share results with previous part due to memory issues.\n",
    "num = int(1e+06); results = []\n",
    "for i in range(num):\n",
    "    total = 0\n",
    "    while total < 100:\n",
    "        n += 1\n",
    "        total += rand()**(-1/2)\n",
    "    results.append(n)\n",
    "print(\"E(X):\",mean(results))\n",
    "print(\"Var(X):\",var(results))"
   ]
  },
  {
   "cell_type": "markdown",
   "id": "656e76ae-0aad-4b5c-a482-7581b785960b",
   "metadata": {},
   "source": [
    "# Q4a"
   ]
  },
  {
   "cell_type": "code",
   "execution_count": 84,
   "id": "46459f57-e89a-4791-b33b-d89e2e631015",
   "metadata": {},
   "outputs": [
    {
     "name": "stdout",
     "output_type": "stream",
     "text": [
      "[3.29915936 3.96491228 2.79207785 3.56597222 4.29166667 3.01302083\n",
      " 2.5969481  3.10087719 2.23156524]\n"
     ]
    }
   ],
   "source": [
    "A = np.array([[-1,2/5,0,1/5,0,0,0,0,0],\n",
    "              [3/10,-1,2/5,0,1/5,0,0,0,0],\n",
    "              [0,3/10,-1,0,0,1/5,0,0,0],\n",
    "              [1/10,0,0,-1,2/5,0,1/5,0,0],\n",
    "              [0,1/10,0,3/10,-1,2/5,0,1/5,0],\n",
    "              [0,0,1/10,0,3/10,-1,0,0,1/5],\n",
    "              [0,0,0,1/10,0,0,-1,2/5,0],\n",
    "              [0,0,0,0,1/10,0,3/10,-1,2/5],\n",
    "              [0,0,0,0,0,1/10,0,3/10,-1]])\n",
    "y = np.array([-1,-1,-1,-1,-1,-1,-1,-1,-1])\n",
    "print(np.linalg.solve(A,y))"
   ]
  },
  {
   "cell_type": "markdown",
   "id": "76d40578-fcbf-4ae3-9905-b6f1285f0116",
   "metadata": {},
   "source": [
    "# Q4b"
   ]
  },
  {
   "cell_type": "code",
   "execution_count": 86,
   "id": "1248ab0d-4f97-4c40-b16f-8ae31bff49e2",
   "metadata": {},
   "outputs": [
    {
     "name": "stdout",
     "output_type": "stream",
     "text": [
      "i = 0 first: 0.20688961988304097\n",
      "i = 4 first: 0.0696637426900585\n",
      "j = 0 first: 0.4932428728070175\n",
      "j = 4 first: 0.21900584795321643\n",
      "Check: 0.9888020833333334\n"
     ]
    }
   ],
   "source": [
    "Ai0 = np.array([[-1,2/5,0,1/5,0,0,0,0,0],\n",
    "                [3/10,-1,2/5,0,1/5,0,0,0,0],\n",
    "                [0,3/10,-1,0,0,2/10,0,0,0],\n",
    "                [1/10,0,0,-1,2/5,0,1/5,0,0],\n",
    "                [0,1/10,0,3/10,-1,2/5,0,1/5,0],\n",
    "                [0,0,1/10,0,3/10,-1,0,0,1/5],\n",
    "                [0,0,0,1/10,0,0,-1,2/5,0],\n",
    "                [0,0,0,0,1/10,0,3/10,-1,2/5],\n",
    "                [0,0,0,0,0,1/10,0,3/10,-1]])\n",
    "Ai4 = np.array([[-1,2/5,0,1/5,0,0,0,0,0],\n",
    "                [3/10,-1,2/5,0,1/5,0,0,0,0],\n",
    "                [0,3/10,-1,0,0,1/5,0,0,0],\n",
    "                [1/10,0,0,-1,2/5,0,1/5,0,0],\n",
    "                [0,1/10,0,3/10,-1,2/5,0,1/5,0],\n",
    "                [0,0,1/10,0,3/10,-1,0,0,1/5],\n",
    "                [0,0,0,1/10,0,0,-1,2/5,0],\n",
    "                [0,0,0,0,1/10,0,3/10,-1,2/5],\n",
    "                [0,0,0,0,0,1/10,0,3/10,-1]])\n",
    "Aj0 = np.array([[-1,2/5,0,1/5,0,0,0,0,0],\n",
    "                [3/10,-1,2/5,0,1/5,0,0,0,0],\n",
    "                [0,3/10,-1,0,0,1/5,0,0,0],\n",
    "                [1/10,0,0,-1,2/5,0,1/5,0,0],\n",
    "                [0,1/10,0,3/10,-1,0,0,1/5,0],\n",
    "                [0,0,1/10,0,3/10,-1,0,0,1/5],\n",
    "                [0,0,0,1/10,0,0,-1,2/5,0],\n",
    "                [0,0,0,0,1/10,0,3/10,-1,2/5],\n",
    "                [0,0,0,0,0,1/10,0,3/10,-1]])\n",
    "Aj4 = np.array([[-1,2/5,0,1/5,0,0,0,0,0],\n",
    "                [3/10,-1,2/5,0,1/5,0,0,0,0],\n",
    "                [0,3/10,-1,0,0,1/5,0,0,0],\n",
    "                [1/10,0,0,-1,2/5,0,1/5,0,0],\n",
    "                [0,1/10,0,3/10,-1,2/5,0,1/5,0],\n",
    "                [0,0,1/10,0,3/10,-1,0,0,1/5],\n",
    "                [0,0,0,1/10,0,0,-1,2/5,0],\n",
    "                [0,0,0,0,1/10,0,3/10,-1,2/5],\n",
    "                [0,0,0,0,0,1/10,0,3/10,-1]])\n",
    "i0 = [-1/10,-1/10,-1/10,0,0,0,0,0,0]\n",
    "i4 = [0,0,0,0,0,0,-1/5,-1/5,-1/5]\n",
    "j0 = [-3/10,0,0,-3/10,0,0,-3/10,0,0]\n",
    "j4 = [0,0,-2/5,0,0,-2/5,0,0,-2/5]\n",
    "\n",
    "soli0 = np.linalg.solve(Ai0,i0)\n",
    "soli4 = np.linalg.solve(Ai4,i4)\n",
    "solj0 = np.linalg.solve(Aj0,j0)\n",
    "solj4 = np.linalg.solve(Aj4,j4)\n",
    "print(\"i = 0 first:\",soli0[0])\n",
    "print(\"i = 4 first:\",soli4[0])\n",
    "print(\"j = 0 first:\",solj0[0])\n",
    "print(\"j = 4 first:\",solj4[0])\n",
    "print(\"Check:\",soli0[0]+soli4[0]+solj0[0]+solj4[0])"
   ]
  },
  {
   "cell_type": "code",
   "execution_count": 93,
   "id": "a226dc00-db4f-4964-9c07-8c4457dbe671",
   "metadata": {},
   "outputs": [
    {
     "name": "stdout",
     "output_type": "stream",
     "text": [
      "Mean number of steps: 3.296705\n",
      "P i0: 0.206996\n",
      "P i4: 0.069427\n",
      "P j0: 0.504589\n",
      "P j4: 0.218988\n"
     ]
    }
   ],
   "source": [
    "num = int(1e+06); steps_agg = []\n",
    "i0 = 0; i4 = 0; j0 = 0; j4 = 0;\n",
    "for i in range(num):\n",
    "    pos = [1,1]; steps = 0;\n",
    "    while 0 not in pos and 4 not in pos:\n",
    "        u = rand()\n",
    "        if u < 1/10:\n",
    "            pos[0] -= 1\n",
    "        elif u < 1/10 + 2/10:\n",
    "            pos[0] += 1\n",
    "        elif u < 1/10 + 2/10 + 3/10:\n",
    "            pos[1] -= 1\n",
    "        else:\n",
    "            pos[1] += 1\n",
    "        steps += 1\n",
    "    steps_agg.append(steps)\n",
    "    if pos[0] == 0: i0 += 1\n",
    "    elif pos[0] == 4: i4 += 1\n",
    "    elif pos[1] == 0: j0 += 1\n",
    "    else: j4 += 1\n",
    "print(\"Mean number of steps:\",mean(steps_agg))\n",
    "print(\"P i0:\",i0/num)\n",
    "print(\"P i4:\",i4/num)\n",
    "print(\"P j0:\",j0/num)\n",
    "print(\"P j4:\",j4/num)"
   ]
  }
 ],
 "metadata": {
  "kernelspec": {
   "display_name": "Python 3 (ipykernel)",
   "language": "python",
   "name": "python3"
  },
  "language_info": {
   "codemirror_mode": {
    "name": "ipython",
    "version": 3
   },
   "file_extension": ".py",
   "mimetype": "text/x-python",
   "name": "python",
   "nbconvert_exporter": "python",
   "pygments_lexer": "ipython3",
   "version": "3.9.12"
  }
 },
 "nbformat": 4,
 "nbformat_minor": 5
}
